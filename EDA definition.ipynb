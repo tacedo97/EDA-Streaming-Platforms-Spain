{
 "cells": [
  {
   "cell_type": "markdown",
   "metadata": {},
   "source": [
    "# INFORMACIÓN DEL PROYECTO"
   ]
  },
  {
   "cell_type": "markdown",
   "metadata": {},
   "source": [
    "### TÍTULO\n",
    "\n",
    "Evolución Temporal de Estrenos de Contenido Audiovisual y Diversidad de Géneros en Netflix y Amazon Prime Video en España."
   ]
  },
  {
   "cell_type": "markdown",
   "metadata": {},
   "source": [
    "### SUBJECT\n",
    "\n",
    "*Se completa el jueves 17/10*"
   ]
  },
  {
   "cell_type": "markdown",
   "metadata": {},
   "source": [
    "### HYPOTHESIS"
   ]
  },
  {
   "cell_type": "markdown",
   "metadata": {},
   "source": [
    "En España, actualmente:\n",
    "\n",
    "1. ¿Ha incrementado la oferta de series y películas en España a través de Netflix y Amazon Prime Video? Para responder a esto, vamos a analizar la progresión a lo largo de los años de los estrenos al público de dichas ofertas de contenido audiovisual \n",
    "\n",
    "2. ¿Qué géneros predominan? \n",
    "- ¿Son los mismos en ambas plataformas? *Me falta replicar el proceso para las películas y series de Amazon Prime Video (es análogo al análisis detallado hecho para Netflix, lo incluimos el jueves 17/10)*\n",
    "- ¿Son los mismos para series y películas? *En el caso de Netflix, sí. Para Amazon Prime Video se determinará cuando se finalice lo comentado en el anterior punto*\n",
    "- ¿Existe alguna relación entre la nota media de cada género y su porcentaje de \"presencia\"? *Pendiente preguntar una pequeña duda y pasarlo a limpio, es lo referente al último apartado del Jupyter Notebook* ['EDA definition.ipynb'](./EDA%20definition.ipynb/)"
   ]
  },
  {
   "cell_type": "markdown",
   "metadata": {},
   "source": [
    "### DATA ADQUISITION\n",
    "\n",
    "Explicado todo en el documento [TMDB_Extraction.ipynb](TMDB_Extraction.ipynb), donde se detalla la extracción vía API de los datos necesarios para llevar a cabo el análisis."
   ]
  }
 ],
 "metadata": {
  "language_info": {
   "name": "python"
  }
 },
 "nbformat": 4,
 "nbformat_minor": 2
}
