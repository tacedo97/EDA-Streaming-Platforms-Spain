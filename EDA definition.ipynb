{
 "cells": [
  {
   "cell_type": "markdown",
   "metadata": {},
   "source": [
    "# INFORMACIÓN DEL PROYECTO"
   ]
  },
  {
   "cell_type": "markdown",
   "metadata": {},
   "source": [
    "### TÍTULO\n",
    "\n",
    "Patrones de Consumo en las Principales Plataformas de Streaming en España: Netflix, Amazon Prime Video, Disney+ y Max."
   ]
  },
  {
   "cell_type": "markdown",
   "metadata": {},
   "source": [
    "### SUBJECT"
   ]
  },
  {
   "cell_type": "markdown",
   "metadata": {},
   "source": [
    "### HYPOTHESIS"
   ]
  },
  {
   "cell_type": "markdown",
   "metadata": {},
   "source": [
    "En España:\n",
    "\n",
    "1. ¿Ha aumentado el **¿consumo?** de series frente al de películas a lo largo del tiempo? \n",
    "*Progresión de releases de películas a lo largo del tiempo VS Progresión de releases de series a lo largo del tiempo*\n",
    "\n",
    "¿REFORMULAR? algo así como que ahora los lanzamientos de series/películas han bajado (pero esto no tiene que ver con las plataformas, porque el lanzamiento no se refiere a la publicación de las obras en las plataformas sino el lanzamiento al público).\n",
    "\n",
    "2. ¿Qué géneros están predominando en las plataformas de streaming más importantes? ¿Los mismos para series que para películas ¿Coinciden o cada plataforma tiene su propio género predominante? \n",
    "\n",
    "3. ¿Influyen en las visualizaciones los siguientes puntos?\n",
    "    - Duración: **HIPÓTESIS QUE SE CAE** Tenemos endpoint para obtener esa información pero no he tirado a él ('details') \n",
    "        - Películas: Más/Menos largas\n",
    "        - Series: Más/Menos temporadas, capítulos más/menos largos\n",
    "    - Año y país en el que fueron rodadas: Puedo hacerlo creo que para series, pero no para pelis porque en este primero tengo 'origin_country', cosa que en la tele no. **PERO TENGO EL IDIOMA ORIGINAL!!!!!!!!!!!!!!!!!!!!!!!!!!!!!!!!!!!!**\n",
    "    - (((Reparto/Director (su popularidad en redes sociales) --> En caso afirmativo, resultaría interesante para las productoras tenerlo en cuenta a la hora de seleccionar al reparto -----> **HIPÓTESIS SUSCEPTIBLE A CAERSE**)))\n",
    "\n",
    "4. ¿Se compensan los gastos de las producciones con el beneficio obtenido? **HIPÓTESIS QUE SE CAE** Tenemos endpoint para obtener esa información de las películas (https://api.themoviedb.org/3/movie/{movie_id}) pero no para las series!!!!!!!!"
   ]
  },
  {
   "cell_type": "markdown",
   "metadata": {},
   "source": [
    "### DATA ADQUISITION"
   ]
  }
 ],
 "metadata": {
  "language_info": {
   "name": "python"
  }
 },
 "nbformat": 4,
 "nbformat_minor": 2
}
